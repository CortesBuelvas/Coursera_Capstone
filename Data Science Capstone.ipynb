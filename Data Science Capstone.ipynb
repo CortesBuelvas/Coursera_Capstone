{
 "cells": [
  {
   "cell_type": "markdown",
   "metadata": {},
   "source": [
    "# Data Science Capstone"
   ]
  },
  {
   "cell_type": "markdown",
   "metadata": {},
   "source": [
    "Notebook for the *Data Science Capstone Course*. Part of the <b>Data Science Professional Certificate</b> in Coursera. Offered by IBM <br>\n",
    "<b>Notebook Owner:</b> Adriana Cortés Buelvas"
   ]
  },
  {
   "cell_type": "code",
   "execution_count": 1,
   "metadata": {},
   "outputs": [],
   "source": [
    "import folium\n",
    "import requests\n",
    "import pandas as pd\n",
    "import numpy as np\n",
    "from matplotlib import pyplot as plt\n",
    "from geopy.geocoders import Nominatim "
   ]
  },
  {
   "cell_type": "code",
   "execution_count": 2,
   "metadata": {},
   "outputs": [
    {
     "name": "stdout",
     "output_type": "stream",
     "text": [
      "Hello Capstone Project Course!\n"
     ]
    }
   ],
   "source": [
    "print(\"Hello Capstone Project Course!\")"
   ]
  },
  {
   "cell_type": "markdown",
   "metadata": {},
   "source": [
    "## Segmenting and Clustering Neighborhoods in Toronto"
   ]
  },
  {
   "cell_type": "markdown",
   "metadata": {},
   "source": [
    "### Exploring and Scraping : Assignment Part 1\n"
   ]
  },
  {
   "cell_type": "markdown",
   "metadata": {},
   "source": [
    "In this first part of the Capstone Project I am going to explore and cluster some information of Toronto Neighborhoods. For this, I will need *'to scrape the following Wikipedia page, https://en.wikipedia.org/wiki/List_of_postal_codes_of_Canada:_M, in order to obtain the data that is in the table of postal codes and to transform the data into a pandas dataframe'*, as indicaded on the course."
   ]
  },
  {
   "cell_type": "markdown",
   "metadata": {},
   "source": [
    "To do that, I am going to read the data set in the link as a Dataframe using Pandas' method `.read_html`. Since the web age holds more than one dataframe, it is necessary to select the first one by using the index `[0]` <br>\n",
    "Then, I will drop all the rows that has a value of 'Not assigned' on the **Borough** column and give the value of a Borough to the values in **Neighborhood** that are 'Not assigned'"
   ]
  },
  {
   "cell_type": "code",
   "execution_count": 3,
   "metadata": {
    "scrolled": false
   },
   "outputs": [
    {
     "data": {
      "text/html": [
       "<div>\n",
       "<style scoped>\n",
       "    .dataframe tbody tr th:only-of-type {\n",
       "        vertical-align: middle;\n",
       "    }\n",
       "\n",
       "    .dataframe tbody tr th {\n",
       "        vertical-align: top;\n",
       "    }\n",
       "\n",
       "    .dataframe thead th {\n",
       "        text-align: right;\n",
       "    }\n",
       "</style>\n",
       "<table border=\"1\" class=\"dataframe\">\n",
       "  <thead>\n",
       "    <tr style=\"text-align: right;\">\n",
       "      <th></th>\n",
       "      <th>Postal Code</th>\n",
       "      <th>Borough</th>\n",
       "      <th>Neighborhood</th>\n",
       "    </tr>\n",
       "  </thead>\n",
       "  <tbody>\n",
       "    <tr>\n",
       "      <th>0</th>\n",
       "      <td>M3A</td>\n",
       "      <td>North York</td>\n",
       "      <td>Parkwoods</td>\n",
       "    </tr>\n",
       "    <tr>\n",
       "      <th>1</th>\n",
       "      <td>M4A</td>\n",
       "      <td>North York</td>\n",
       "      <td>Victoria Village</td>\n",
       "    </tr>\n",
       "    <tr>\n",
       "      <th>2</th>\n",
       "      <td>M5A</td>\n",
       "      <td>Downtown Toronto</td>\n",
       "      <td>Regent Park, Harbourfront</td>\n",
       "    </tr>\n",
       "    <tr>\n",
       "      <th>3</th>\n",
       "      <td>M6A</td>\n",
       "      <td>North York</td>\n",
       "      <td>Lawrence Manor, Lawrence Heights</td>\n",
       "    </tr>\n",
       "    <tr>\n",
       "      <th>4</th>\n",
       "      <td>M7A</td>\n",
       "      <td>Downtown Toronto</td>\n",
       "      <td>Queen's Park, Ontario Provincial Government</td>\n",
       "    </tr>\n",
       "    <tr>\n",
       "      <th>5</th>\n",
       "      <td>M9A</td>\n",
       "      <td>Etobicoke</td>\n",
       "      <td>Islington Avenue, Humber Valley Village</td>\n",
       "    </tr>\n",
       "    <tr>\n",
       "      <th>6</th>\n",
       "      <td>M1B</td>\n",
       "      <td>Scarborough</td>\n",
       "      <td>Malvern, Rouge</td>\n",
       "    </tr>\n",
       "    <tr>\n",
       "      <th>7</th>\n",
       "      <td>M3B</td>\n",
       "      <td>North York</td>\n",
       "      <td>Don Mills</td>\n",
       "    </tr>\n",
       "    <tr>\n",
       "      <th>8</th>\n",
       "      <td>M4B</td>\n",
       "      <td>East York</td>\n",
       "      <td>Parkview Hill, Woodbine Gardens</td>\n",
       "    </tr>\n",
       "    <tr>\n",
       "      <th>9</th>\n",
       "      <td>M5B</td>\n",
       "      <td>Downtown Toronto</td>\n",
       "      <td>Garden District, Ryerson</td>\n",
       "    </tr>\n",
       "    <tr>\n",
       "      <th>10</th>\n",
       "      <td>M6B</td>\n",
       "      <td>North York</td>\n",
       "      <td>Glencairn</td>\n",
       "    </tr>\n",
       "  </tbody>\n",
       "</table>\n",
       "</div>"
      ],
      "text/plain": [
       "   Postal Code           Borough                                 Neighborhood\n",
       "0          M3A        North York                                    Parkwoods\n",
       "1          M4A        North York                             Victoria Village\n",
       "2          M5A  Downtown Toronto                    Regent Park, Harbourfront\n",
       "3          M6A        North York             Lawrence Manor, Lawrence Heights\n",
       "4          M7A  Downtown Toronto  Queen's Park, Ontario Provincial Government\n",
       "5          M9A         Etobicoke      Islington Avenue, Humber Valley Village\n",
       "6          M1B       Scarborough                               Malvern, Rouge\n",
       "7          M3B        North York                                    Don Mills\n",
       "8          M4B         East York              Parkview Hill, Woodbine Gardens\n",
       "9          M5B  Downtown Toronto                     Garden District, Ryerson\n",
       "10         M6B        North York                                    Glencairn"
      ]
     },
     "execution_count": 3,
     "metadata": {},
     "output_type": "execute_result"
    }
   ],
   "source": [
    "df = pd.read_html('https://en.wikipedia.org/wiki/List_of_postal_codes_of_Canada:_M')[0]\n",
    "df = df[df.Borough != 'Not assigned'].reset_index()\n",
    "df.loc[df.Neighborhood == 'Not assigned', ['Borough']] = df.Borough\n",
    "df.drop(labels='index', axis=1, inplace=True)\n",
    "df.head(11)"
   ]
  },
  {
   "cell_type": "markdown",
   "metadata": {},
   "source": [
    "From the DataFrame above, notice that, those Postal Codes that corresponds to more than one neighbourhood, will indicate all of them in the same row and separated by a coma. For example, look at M6A: in the column **Neighborhood** it has Lawrence Manor and Lawrence Heights. "
   ]
  },
  {
   "cell_type": "markdown",
   "metadata": {},
   "source": [
    "Finally, I print the shape to now the number of rows that the Dataframe has"
   ]
  },
  {
   "cell_type": "code",
   "execution_count": 4,
   "metadata": {},
   "outputs": [
    {
     "data": {
      "text/plain": [
       "(103, 3)"
      ]
     },
     "execution_count": 4,
     "metadata": {},
     "output_type": "execute_result"
    }
   ],
   "source": [
    "df.shape"
   ]
  },
  {
   "cell_type": "markdown",
   "metadata": {},
   "source": [
    "### Latitude and Longitude : Assignment Part 2\n"
   ]
  },
  {
   "cell_type": "markdown",
   "metadata": {},
   "source": [
    "Now, in order for the data to be available for the Foursquare API, I'm going to need the coordinates for each Postal Code. For this, I am going to use the data on a CSV file that Coursera provided. <br>"
   ]
  },
  {
   "cell_type": "code",
   "execution_count": 5,
   "metadata": {},
   "outputs": [
    {
     "data": {
      "text/html": [
       "<div>\n",
       "<style scoped>\n",
       "    .dataframe tbody tr th:only-of-type {\n",
       "        vertical-align: middle;\n",
       "    }\n",
       "\n",
       "    .dataframe tbody tr th {\n",
       "        vertical-align: top;\n",
       "    }\n",
       "\n",
       "    .dataframe thead th {\n",
       "        text-align: right;\n",
       "    }\n",
       "</style>\n",
       "<table border=\"1\" class=\"dataframe\">\n",
       "  <thead>\n",
       "    <tr style=\"text-align: right;\">\n",
       "      <th></th>\n",
       "      <th>Postal Code</th>\n",
       "      <th>Latitude</th>\n",
       "      <th>Longitude</th>\n",
       "    </tr>\n",
       "  </thead>\n",
       "  <tbody>\n",
       "    <tr>\n",
       "      <th>0</th>\n",
       "      <td>M1B</td>\n",
       "      <td>43.806686</td>\n",
       "      <td>-79.194353</td>\n",
       "    </tr>\n",
       "    <tr>\n",
       "      <th>1</th>\n",
       "      <td>M1C</td>\n",
       "      <td>43.784535</td>\n",
       "      <td>-79.160497</td>\n",
       "    </tr>\n",
       "    <tr>\n",
       "      <th>2</th>\n",
       "      <td>M1E</td>\n",
       "      <td>43.763573</td>\n",
       "      <td>-79.188711</td>\n",
       "    </tr>\n",
       "    <tr>\n",
       "      <th>3</th>\n",
       "      <td>M1G</td>\n",
       "      <td>43.770992</td>\n",
       "      <td>-79.216917</td>\n",
       "    </tr>\n",
       "    <tr>\n",
       "      <th>4</th>\n",
       "      <td>M1H</td>\n",
       "      <td>43.773136</td>\n",
       "      <td>-79.239476</td>\n",
       "    </tr>\n",
       "  </tbody>\n",
       "</table>\n",
       "</div>"
      ],
      "text/plain": [
       "  Postal Code   Latitude  Longitude\n",
       "0         M1B  43.806686 -79.194353\n",
       "1         M1C  43.784535 -79.160497\n",
       "2         M1E  43.763573 -79.188711\n",
       "3         M1G  43.770992 -79.216917\n",
       "4         M1H  43.773136 -79.239476"
      ]
     },
     "execution_count": 5,
     "metadata": {},
     "output_type": "execute_result"
    }
   ],
   "source": [
    "coordinates = pd.read_csv('https://cocl.us/Geospatial_data')\n",
    "coordinates.head()"
   ]
  },
  {
   "cell_type": "markdown",
   "metadata": {},
   "source": [
    "After exploring the CSV file, I will merge this information with the previous dataset so we can obtain all of the information in a single DataFrame"
   ]
  },
  {
   "cell_type": "code",
   "execution_count": 6,
   "metadata": {
    "scrolled": true
   },
   "outputs": [
    {
     "data": {
      "text/html": [
       "<div>\n",
       "<style scoped>\n",
       "    .dataframe tbody tr th:only-of-type {\n",
       "        vertical-align: middle;\n",
       "    }\n",
       "\n",
       "    .dataframe tbody tr th {\n",
       "        vertical-align: top;\n",
       "    }\n",
       "\n",
       "    .dataframe thead th {\n",
       "        text-align: right;\n",
       "    }\n",
       "</style>\n",
       "<table border=\"1\" class=\"dataframe\">\n",
       "  <thead>\n",
       "    <tr style=\"text-align: right;\">\n",
       "      <th></th>\n",
       "      <th>Postal Code</th>\n",
       "      <th>Borough</th>\n",
       "      <th>Neighborhood</th>\n",
       "      <th>Latitude</th>\n",
       "      <th>Longitude</th>\n",
       "    </tr>\n",
       "  </thead>\n",
       "  <tbody>\n",
       "    <tr>\n",
       "      <th>0</th>\n",
       "      <td>M3A</td>\n",
       "      <td>North York</td>\n",
       "      <td>Parkwoods</td>\n",
       "      <td>43.753259</td>\n",
       "      <td>-79.329656</td>\n",
       "    </tr>\n",
       "    <tr>\n",
       "      <th>1</th>\n",
       "      <td>M4A</td>\n",
       "      <td>North York</td>\n",
       "      <td>Victoria Village</td>\n",
       "      <td>43.725882</td>\n",
       "      <td>-79.315572</td>\n",
       "    </tr>\n",
       "    <tr>\n",
       "      <th>2</th>\n",
       "      <td>M5A</td>\n",
       "      <td>Downtown Toronto</td>\n",
       "      <td>Regent Park, Harbourfront</td>\n",
       "      <td>43.654260</td>\n",
       "      <td>-79.360636</td>\n",
       "    </tr>\n",
       "    <tr>\n",
       "      <th>3</th>\n",
       "      <td>M6A</td>\n",
       "      <td>North York</td>\n",
       "      <td>Lawrence Manor, Lawrence Heights</td>\n",
       "      <td>43.718518</td>\n",
       "      <td>-79.464763</td>\n",
       "    </tr>\n",
       "    <tr>\n",
       "      <th>4</th>\n",
       "      <td>M7A</td>\n",
       "      <td>Downtown Toronto</td>\n",
       "      <td>Queen's Park, Ontario Provincial Government</td>\n",
       "      <td>43.662301</td>\n",
       "      <td>-79.389494</td>\n",
       "    </tr>\n",
       "    <tr>\n",
       "      <th>5</th>\n",
       "      <td>M9A</td>\n",
       "      <td>Etobicoke</td>\n",
       "      <td>Islington Avenue, Humber Valley Village</td>\n",
       "      <td>43.667856</td>\n",
       "      <td>-79.532242</td>\n",
       "    </tr>\n",
       "    <tr>\n",
       "      <th>6</th>\n",
       "      <td>M1B</td>\n",
       "      <td>Scarborough</td>\n",
       "      <td>Malvern, Rouge</td>\n",
       "      <td>43.806686</td>\n",
       "      <td>-79.194353</td>\n",
       "    </tr>\n",
       "    <tr>\n",
       "      <th>7</th>\n",
       "      <td>M3B</td>\n",
       "      <td>North York</td>\n",
       "      <td>Don Mills</td>\n",
       "      <td>43.745906</td>\n",
       "      <td>-79.352188</td>\n",
       "    </tr>\n",
       "    <tr>\n",
       "      <th>8</th>\n",
       "      <td>M4B</td>\n",
       "      <td>East York</td>\n",
       "      <td>Parkview Hill, Woodbine Gardens</td>\n",
       "      <td>43.706397</td>\n",
       "      <td>-79.309937</td>\n",
       "    </tr>\n",
       "    <tr>\n",
       "      <th>9</th>\n",
       "      <td>M5B</td>\n",
       "      <td>Downtown Toronto</td>\n",
       "      <td>Garden District, Ryerson</td>\n",
       "      <td>43.657162</td>\n",
       "      <td>-79.378937</td>\n",
       "    </tr>\n",
       "    <tr>\n",
       "      <th>10</th>\n",
       "      <td>M6B</td>\n",
       "      <td>North York</td>\n",
       "      <td>Glencairn</td>\n",
       "      <td>43.709577</td>\n",
       "      <td>-79.445073</td>\n",
       "    </tr>\n",
       "  </tbody>\n",
       "</table>\n",
       "</div>"
      ],
      "text/plain": [
       "   Postal Code           Borough                                 Neighborhood  \\\n",
       "0          M3A        North York                                    Parkwoods   \n",
       "1          M4A        North York                             Victoria Village   \n",
       "2          M5A  Downtown Toronto                    Regent Park, Harbourfront   \n",
       "3          M6A        North York             Lawrence Manor, Lawrence Heights   \n",
       "4          M7A  Downtown Toronto  Queen's Park, Ontario Provincial Government   \n",
       "5          M9A         Etobicoke      Islington Avenue, Humber Valley Village   \n",
       "6          M1B       Scarborough                               Malvern, Rouge   \n",
       "7          M3B        North York                                    Don Mills   \n",
       "8          M4B         East York              Parkview Hill, Woodbine Gardens   \n",
       "9          M5B  Downtown Toronto                     Garden District, Ryerson   \n",
       "10         M6B        North York                                    Glencairn   \n",
       "\n",
       "     Latitude  Longitude  \n",
       "0   43.753259 -79.329656  \n",
       "1   43.725882 -79.315572  \n",
       "2   43.654260 -79.360636  \n",
       "3   43.718518 -79.464763  \n",
       "4   43.662301 -79.389494  \n",
       "5   43.667856 -79.532242  \n",
       "6   43.806686 -79.194353  \n",
       "7   43.745906 -79.352188  \n",
       "8   43.706397 -79.309937  \n",
       "9   43.657162 -79.378937  \n",
       "10  43.709577 -79.445073  "
      ]
     },
     "execution_count": 6,
     "metadata": {},
     "output_type": "execute_result"
    }
   ],
   "source": [
    "df_coordinates = pd.merge(df, coordinates, how='left')\n",
    "df_coordinates.head(11)"
   ]
  },
  {
   "cell_type": "markdown",
   "metadata": {},
   "source": [
    "Notice that the DataFrame is not printed in the same order as the example given on the Assignment Instructions. However, I made a test to verify that the information was accurate. The following code is a test code to compare the information. Here I am verifying the information on the M4M postal code. You can verify it with any postal code on the example."
   ]
  },
  {
   "cell_type": "code",
   "execution_count": 7,
   "metadata": {},
   "outputs": [
    {
     "name": "stdout",
     "output_type": "stream",
     "text": [
      "   Postal Code       Borough     Neighborhood   Latitude  Longitude\n",
      "54         M4M  East Toronto  Studio District  43.659526 -79.340923\n"
     ]
    }
   ],
   "source": [
    "print(df_coordinates.loc[df_coordinates['Postal Code'] == 'M4M'])"
   ]
  },
  {
   "cell_type": "markdown",
   "metadata": {},
   "source": [
    "Here is the DataFrame shown on the example: <br>\n",
    "Go ahead and try different Postal Codes on the code above to verify the coordinates\n",
    "<img src=\"https://d3c33hcgiwev3.cloudfront.net/imageAssetProxy.v1/HZ3jNHNOEeiMwApe4i-fLg_f44f0f10ccfaf42fcbdba9813364e173_Screen-Shot-2018-06-18-at-7.18.16-PM.png?expiry=1592352000000&hmac=KBUZNSrBuMzrJCGlMGWJQSlzSjzMBJutNI7OzulUn18\"\n",
    "     alt=\"Course Data frame Example\"\n",
    "     style=\"float: left; margin-right: 6px;\" />"
   ]
  },
  {
   "cell_type": "markdown",
   "metadata": {},
   "source": [
    "### Explore and Cluster Analysis : Assignment Part 3"
   ]
  },
  {
   "cell_type": "markdown",
   "metadata": {},
   "source": [
    "First, I am going to generate a map of Toronto's Boroughs and Neighbrhoods using the Dataframe generated before using `folium`. For that, I will need to get the coordinates of Toronto using `geopy` and the user_agent named *toronto_explorer*"
   ]
  },
  {
   "cell_type": "code",
   "execution_count": 8,
   "metadata": {},
   "outputs": [
    {
     "name": "stdout",
     "output_type": "stream",
     "text": [
      "The geograpical coordinates of Toronto are 43.6534817, -79.3839347.\n"
     ]
    }
   ],
   "source": [
    "address = 'Toronto, CA'\n",
    "\n",
    "geolocator = Nominatim(user_agent=\"toronto_explorer\")\n",
    "location = geolocator.geocode(address)\n",
    "latitude = location.latitude\n",
    "longitude = location.longitude\n",
    "print('The geograpical coordinates of Toronto are {}, {}.'.format(latitude, longitude))"
   ]
  },
  {
   "cell_type": "markdown",
   "metadata": {},
   "source": [
    "Now, lets see the map."
   ]
  },
  {
   "cell_type": "code",
   "execution_count": 9,
   "metadata": {},
   "outputs": [
    {
     "data": {
      "text/html": [
       "<div style=\"width:100%;\"><div style=\"position:relative;width:100%;height:0;padding-bottom:60%;\"><span style=\"color:#565656\">Make this Notebook Trusted to load map: File -> Trust Notebook</span><iframe src=\"about:blank\" style=\"position:absolute;width:100%;height:100%;left:0;top:0;border:none !important;\" data-html=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 onload=\"this.contentDocument.open();this.contentDocument.write(atob(this.getAttribute('data-html')));this.contentDocument.close();\" allowfullscreen webkitallowfullscreen mozallowfullscreen></iframe></div></div>"
      ],
      "text/plain": [
       "<folium.folium.Map at 0x293cbd7d788>"
      ]
     },
     "execution_count": 9,
     "metadata": {},
     "output_type": "execute_result"
    }
   ],
   "source": [
    "map_toronto = folium.Map(location=[latitude, longitude], zoom_start=10)\n",
    "\n",
    "# add markers to map\n",
    "for lat, lng, borough, neighborhood in zip(df_coordinates['Latitude'], df_coordinates['Longitude'], df_coordinates['Borough'], df_coordinates['Neighborhood']):\n",
    "    label = '{}, {}'.format(neighborhood, borough)\n",
    "    label = folium.Popup(label, parse_html=True)\n",
    "    folium.CircleMarker(\n",
    "        [lat, lng],\n",
    "        radius=5,\n",
    "        popup=label,\n",
    "        color='blue',\n",
    "        fill=True,\n",
    "        fill_color='#3186cc',\n",
    "        fill_opacity=0.7,\n",
    "        parse_html=False).add_to(map_toronto)  \n",
    "    \n",
    "map_toronto"
   ]
  },
  {
   "cell_type": "markdown",
   "metadata": {},
   "source": [
    "Toronto is a pretty big city. Let's say we want to segment and analyse only the neighborhoods in the **North York** Borough. For that, let's first generate a Dataframe with the data we're interested in. "
   ]
  },
  {
   "cell_type": "code",
   "execution_count": 10,
   "metadata": {},
   "outputs": [
    {
     "data": {
      "text/html": [
       "<div>\n",
       "<style scoped>\n",
       "    .dataframe tbody tr th:only-of-type {\n",
       "        vertical-align: middle;\n",
       "    }\n",
       "\n",
       "    .dataframe tbody tr th {\n",
       "        vertical-align: top;\n",
       "    }\n",
       "\n",
       "    .dataframe thead th {\n",
       "        text-align: right;\n",
       "    }\n",
       "</style>\n",
       "<table border=\"1\" class=\"dataframe\">\n",
       "  <thead>\n",
       "    <tr style=\"text-align: right;\">\n",
       "      <th></th>\n",
       "      <th>Postal Code</th>\n",
       "      <th>Borough</th>\n",
       "      <th>Neighborhood</th>\n",
       "      <th>Latitude</th>\n",
       "      <th>Longitude</th>\n",
       "    </tr>\n",
       "  </thead>\n",
       "  <tbody>\n",
       "    <tr>\n",
       "      <th>0</th>\n",
       "      <td>M3A</td>\n",
       "      <td>North York</td>\n",
       "      <td>Parkwoods</td>\n",
       "      <td>43.753259</td>\n",
       "      <td>-79.329656</td>\n",
       "    </tr>\n",
       "    <tr>\n",
       "      <th>1</th>\n",
       "      <td>M4A</td>\n",
       "      <td>North York</td>\n",
       "      <td>Victoria Village</td>\n",
       "      <td>43.725882</td>\n",
       "      <td>-79.315572</td>\n",
       "    </tr>\n",
       "    <tr>\n",
       "      <th>2</th>\n",
       "      <td>M6A</td>\n",
       "      <td>North York</td>\n",
       "      <td>Lawrence Manor, Lawrence Heights</td>\n",
       "      <td>43.718518</td>\n",
       "      <td>-79.464763</td>\n",
       "    </tr>\n",
       "    <tr>\n",
       "      <th>3</th>\n",
       "      <td>M3B</td>\n",
       "      <td>North York</td>\n",
       "      <td>Don Mills</td>\n",
       "      <td>43.745906</td>\n",
       "      <td>-79.352188</td>\n",
       "    </tr>\n",
       "    <tr>\n",
       "      <th>4</th>\n",
       "      <td>M6B</td>\n",
       "      <td>North York</td>\n",
       "      <td>Glencairn</td>\n",
       "      <td>43.709577</td>\n",
       "      <td>-79.445073</td>\n",
       "    </tr>\n",
       "  </tbody>\n",
       "</table>\n",
       "</div>"
      ],
      "text/plain": [
       "  Postal Code     Borough                      Neighborhood   Latitude  \\\n",
       "0         M3A  North York                         Parkwoods  43.753259   \n",
       "1         M4A  North York                  Victoria Village  43.725882   \n",
       "2         M6A  North York  Lawrence Manor, Lawrence Heights  43.718518   \n",
       "3         M3B  North York                         Don Mills  43.745906   \n",
       "4         M6B  North York                         Glencairn  43.709577   \n",
       "\n",
       "   Longitude  \n",
       "0 -79.329656  \n",
       "1 -79.315572  \n",
       "2 -79.464763  \n",
       "3 -79.352188  \n",
       "4 -79.445073  "
      ]
     },
     "execution_count": 10,
     "metadata": {},
     "output_type": "execute_result"
    }
   ],
   "source": [
    "NorthYork_data = df_coordinates[df_coordinates['Borough'] == 'North York'].reset_index(drop=True)\n",
    "NorthYork_data.head()"
   ]
  },
  {
   "cell_type": "markdown",
   "metadata": {},
   "source": [
    "Now, I will obtain the coordinates for North York and display its map with markers on each of its postal codes. "
   ]
  },
  {
   "cell_type": "code",
   "execution_count": 11,
   "metadata": {},
   "outputs": [
    {
     "name": "stdout",
     "output_type": "stream",
     "text": [
      "The geograpical coordinates of Toronto are 43.7543263, -79.44911696639593.\n"
     ]
    }
   ],
   "source": [
    "address = 'North York, CA'\n",
    "\n",
    "geolocator = Nominatim(user_agent=\"toronto_explorer\")\n",
    "location = geolocator.geocode(address)\n",
    "latitude = location.latitude\n",
    "longitude = location.longitude\n",
    "print('The geograpical coordinates of Toronto are {}, {}.'.format(latitude, longitude))"
   ]
  },
  {
   "cell_type": "code",
   "execution_count": 12,
   "metadata": {},
   "outputs": [
    {
     "data": {
      "text/html": [
       "<div style=\"width:100%;\"><div style=\"position:relative;width:100%;height:0;padding-bottom:60%;\"><span style=\"color:#565656\">Make this Notebook Trusted to load map: File -> Trust Notebook</span><iframe src=\"about:blank\" style=\"position:absolute;width:100%;height:100%;left:0;top:0;border:none !important;\" data-html=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 onload=\"this.contentDocument.open();this.contentDocument.write(atob(this.getAttribute('data-html')));this.contentDocument.close();\" allowfullscreen webkitallowfullscreen mozallowfullscreen></iframe></div></div>"
      ],
      "text/plain": [
       "<folium.folium.Map at 0x293cbbd1b48>"
      ]
     },
     "execution_count": 12,
     "metadata": {},
     "output_type": "execute_result"
    }
   ],
   "source": [
    "map_NorthYork = folium.Map(location=[latitude, longitude], zoom_start=11)\n",
    "\n",
    "# add markers to map\n",
    "for lat, lng, borough, neighborhood in zip(NorthYork_data['Latitude'], NorthYork_data['Longitude'], NorthYork_data['Borough'], NorthYork_data['Neighborhood']):\n",
    "    label = '{}'.format(neighborhood)\n",
    "    label = folium.Popup(label, parse_html=True)\n",
    "    folium.CircleMarker(\n",
    "        [lat, lng],\n",
    "        radius=5,\n",
    "        popup=label,\n",
    "        color='blue',\n",
    "        fill=True,\n",
    "        fill_color='#3186cc',\n",
    "        fill_opacity=0.7,\n",
    "        parse_html=False).add_to(map_NorthYork)  \n",
    "    \n",
    "map_NorthYork"
   ]
  },
  {
   "cell_type": "markdown",
   "metadata": {},
   "source": [
    "After this, I can start using Foursquare API to explore these neighborhoods in North York and segment the data. To to that, I need to define my Foursquare credentials and its version."
   ]
  },
  {
   "cell_type": "code",
   "execution_count": 13,
   "metadata": {},
   "outputs": [],
   "source": [
    "CLIENT_ID = '35VPWLPU40NOKIXO5LTPEIT1AIRAKREX1Y5CAE3MROUMG50F' \n",
    "CLIENT_SECRET = 'JZQH5WVUWHLEWAGKB3EEJBX0V0R243L3DN5XDLTNCKWZEIA1'\n",
    "VERSION = '20180605' # Foursquare API version"
   ]
  },
  {
   "cell_type": "markdown",
   "metadata": {},
   "source": [
    "Let's say I want to explore a limit of 100 venues on a radius of 500km. We need to define this so it can be used on the analysis"
   ]
  },
  {
   "cell_type": "code",
   "execution_count": 14,
   "metadata": {},
   "outputs": [],
   "source": [
    "LIMIT = 100\n",
    "radius = 500"
   ]
  },
  {
   "cell_type": "markdown",
   "metadata": {},
   "source": [
    "Now, I am going to use the function defined on the New York's lab to get all the nearby venues of each neighborhood in North York. The aim is to, later, create a DataFrame with this information so it can be analyzed easier.  "
   ]
  },
  {
   "cell_type": "code",
   "execution_count": 15,
   "metadata": {},
   "outputs": [],
   "source": [
    "def getNearbyVenues(names, latitudes, longitudes, radius=500):\n",
    "    \n",
    "    venues_list=[]\n",
    "    for name, lat, lng in zip(names, latitudes, longitudes):\n",
    "        print(name)\n",
    "            \n",
    "        # create the API request URL\n",
    "        url = 'https://api.foursquare.com/v2/venues/explore?&client_id={}&client_secret={}&v={}&ll={},{}&radius={}&limit={}'.format(\n",
    "            CLIENT_ID, \n",
    "            CLIENT_SECRET, \n",
    "            VERSION, \n",
    "            lat, \n",
    "            lng, \n",
    "            radius, \n",
    "            LIMIT)\n",
    "            \n",
    "        # make the GET request\n",
    "        results = requests.get(url).json()[\"response\"]['groups'][0]['items']\n",
    "        \n",
    "        # return only relevant information for each nearby venue\n",
    "        venues_list.append([(\n",
    "            name, \n",
    "            lat, \n",
    "            lng, \n",
    "            v['venue']['name'], \n",
    "            v['venue']['location']['lat'], \n",
    "            v['venue']['location']['lng'],  \n",
    "            v['venue']['categories'][0]['name']) for v in results])\n",
    "\n",
    "    nearby_venues = pd.DataFrame([item for venue_list in venues_list for item in venue_list])\n",
    "    nearby_venues.columns = ['Neighborhood', \n",
    "                  'Neighborhood Latitude', \n",
    "                  'Neighborhood Longitude', \n",
    "                  'Venue', \n",
    "                  'Venue Latitude', \n",
    "                  'Venue Longitude', \n",
    "                  'Venue Category']\n",
    "    \n",
    "    return(nearby_venues)"
   ]
  },
  {
   "cell_type": "markdown",
   "metadata": {},
   "source": [
    "The dataframe where this information is going to be stored is going to be called NorthYork_venues. To create it, I just need to call the function defined above into each of the neighborhoods in North York Borough."
   ]
  },
  {
   "cell_type": "code",
   "execution_count": 16,
   "metadata": {},
   "outputs": [
    {
     "name": "stdout",
     "output_type": "stream",
     "text": [
      "Parkwoods\n",
      "Victoria Village\n",
      "Lawrence Manor, Lawrence Heights\n",
      "Don Mills\n",
      "Glencairn\n",
      "Don Mills\n",
      "Hillcrest Village\n",
      "Bathurst Manor, Wilson Heights, Downsview North\n",
      "Fairview, Henry Farm, Oriole\n",
      "Northwood Park, York University\n",
      "Bayview Village\n",
      "Downsview\n",
      "York Mills, Silver Hills\n",
      "Downsview\n",
      "North Park, Maple Leaf Park, Upwood Park\n",
      "Humber Summit\n",
      "Willowdale, Newtonbrook\n",
      "Downsview\n",
      "Bedford Park, Lawrence Manor East\n",
      "Humberlea, Emery\n",
      "Willowdale, Willowdale East\n",
      "Downsview\n",
      "York Mills West\n",
      "Willowdale, Willowdale West\n"
     ]
    }
   ],
   "source": [
    "NorthYork_venues = getNearbyVenues(names=NorthYork_data['Neighborhood'],\n",
    "                                   latitudes=NorthYork_data['Latitude'],\n",
    "                                   longitudes=NorthYork_data['Longitude']\n",
    "                                  )"
   ]
  },
  {
   "cell_type": "markdown",
   "metadata": {},
   "source": [
    "Now, let's take a look into the DataFrame generated"
   ]
  },
  {
   "cell_type": "code",
   "execution_count": 17,
   "metadata": {
    "scrolled": false
   },
   "outputs": [
    {
     "name": "stdout",
     "output_type": "stream",
     "text": [
      "(241, 7)\n"
     ]
    },
    {
     "data": {
      "text/html": [
       "<div>\n",
       "<style scoped>\n",
       "    .dataframe tbody tr th:only-of-type {\n",
       "        vertical-align: middle;\n",
       "    }\n",
       "\n",
       "    .dataframe tbody tr th {\n",
       "        vertical-align: top;\n",
       "    }\n",
       "\n",
       "    .dataframe thead th {\n",
       "        text-align: right;\n",
       "    }\n",
       "</style>\n",
       "<table border=\"1\" class=\"dataframe\">\n",
       "  <thead>\n",
       "    <tr style=\"text-align: right;\">\n",
       "      <th></th>\n",
       "      <th>Neighborhood</th>\n",
       "      <th>Neighborhood Latitude</th>\n",
       "      <th>Neighborhood Longitude</th>\n",
       "      <th>Venue</th>\n",
       "      <th>Venue Latitude</th>\n",
       "      <th>Venue Longitude</th>\n",
       "      <th>Venue Category</th>\n",
       "    </tr>\n",
       "  </thead>\n",
       "  <tbody>\n",
       "    <tr>\n",
       "      <th>0</th>\n",
       "      <td>Parkwoods</td>\n",
       "      <td>43.753259</td>\n",
       "      <td>-79.329656</td>\n",
       "      <td>Brookbanks Park</td>\n",
       "      <td>43.751976</td>\n",
       "      <td>-79.332140</td>\n",
       "      <td>Park</td>\n",
       "    </tr>\n",
       "    <tr>\n",
       "      <th>1</th>\n",
       "      <td>Parkwoods</td>\n",
       "      <td>43.753259</td>\n",
       "      <td>-79.329656</td>\n",
       "      <td>GTA Restoration</td>\n",
       "      <td>43.753396</td>\n",
       "      <td>-79.333477</td>\n",
       "      <td>Fireworks Store</td>\n",
       "    </tr>\n",
       "    <tr>\n",
       "      <th>2</th>\n",
       "      <td>Parkwoods</td>\n",
       "      <td>43.753259</td>\n",
       "      <td>-79.329656</td>\n",
       "      <td>Variety Store</td>\n",
       "      <td>43.751974</td>\n",
       "      <td>-79.333114</td>\n",
       "      <td>Food &amp; Drink Shop</td>\n",
       "    </tr>\n",
       "    <tr>\n",
       "      <th>3</th>\n",
       "      <td>Victoria Village</td>\n",
       "      <td>43.725882</td>\n",
       "      <td>-79.315572</td>\n",
       "      <td>Victoria Village Arena</td>\n",
       "      <td>43.723481</td>\n",
       "      <td>-79.315635</td>\n",
       "      <td>Hockey Arena</td>\n",
       "    </tr>\n",
       "    <tr>\n",
       "      <th>4</th>\n",
       "      <td>Victoria Village</td>\n",
       "      <td>43.725882</td>\n",
       "      <td>-79.315572</td>\n",
       "      <td>Tim Hortons</td>\n",
       "      <td>43.725517</td>\n",
       "      <td>-79.313103</td>\n",
       "      <td>Coffee Shop</td>\n",
       "    </tr>\n",
       "  </tbody>\n",
       "</table>\n",
       "</div>"
      ],
      "text/plain": [
       "       Neighborhood  Neighborhood Latitude  Neighborhood Longitude  \\\n",
       "0         Parkwoods              43.753259              -79.329656   \n",
       "1         Parkwoods              43.753259              -79.329656   \n",
       "2         Parkwoods              43.753259              -79.329656   \n",
       "3  Victoria Village              43.725882              -79.315572   \n",
       "4  Victoria Village              43.725882              -79.315572   \n",
       "\n",
       "                    Venue  Venue Latitude  Venue Longitude     Venue Category  \n",
       "0         Brookbanks Park       43.751976       -79.332140               Park  \n",
       "1         GTA Restoration       43.753396       -79.333477    Fireworks Store  \n",
       "2           Variety Store       43.751974       -79.333114  Food & Drink Shop  \n",
       "3  Victoria Village Arena       43.723481       -79.315635       Hockey Arena  \n",
       "4             Tim Hortons       43.725517       -79.313103        Coffee Shop  "
      ]
     },
     "execution_count": 17,
     "metadata": {},
     "output_type": "execute_result"
    }
   ],
   "source": [
    "print(NorthYork_venues.shape)\n",
    "NorthYork_venues.head()"
   ]
  },
  {
   "cell_type": "markdown",
   "metadata": {},
   "source": [
    "Now, we can see how many Venues does each neighborhood has. For this, I made some processing so the data can be observed easier."
   ]
  },
  {
   "cell_type": "code",
   "execution_count": 18,
   "metadata": {},
   "outputs": [
    {
     "data": {
      "text/html": [
       "<div>\n",
       "<style scoped>\n",
       "    .dataframe tbody tr th:only-of-type {\n",
       "        vertical-align: middle;\n",
       "    }\n",
       "\n",
       "    .dataframe tbody tr th {\n",
       "        vertical-align: top;\n",
       "    }\n",
       "\n",
       "    .dataframe thead th {\n",
       "        text-align: right;\n",
       "    }\n",
       "</style>\n",
       "<table border=\"1\" class=\"dataframe\">\n",
       "  <thead>\n",
       "    <tr style=\"text-align: right;\">\n",
       "      <th></th>\n",
       "      <th>Neighborhood</th>\n",
       "      <th>Number of Venues</th>\n",
       "    </tr>\n",
       "  </thead>\n",
       "  <tbody>\n",
       "    <tr>\n",
       "      <th>0</th>\n",
       "      <td>Fairview, Henry Farm, Oriole</td>\n",
       "      <td>62</td>\n",
       "    </tr>\n",
       "    <tr>\n",
       "      <th>1</th>\n",
       "      <td>Willowdale, Willowdale East</td>\n",
       "      <td>33</td>\n",
       "    </tr>\n",
       "    <tr>\n",
       "      <th>2</th>\n",
       "      <td>Don Mills</td>\n",
       "      <td>28</td>\n",
       "    </tr>\n",
       "    <tr>\n",
       "      <th>3</th>\n",
       "      <td>Bedford Park, Lawrence Manor East</td>\n",
       "      <td>24</td>\n",
       "    </tr>\n",
       "    <tr>\n",
       "      <th>4</th>\n",
       "      <td>Bathurst Manor, Wilson Heights, Downsview North</td>\n",
       "      <td>20</td>\n",
       "    </tr>\n",
       "    <tr>\n",
       "      <th>5</th>\n",
       "      <td>Downsview</td>\n",
       "      <td>17</td>\n",
       "    </tr>\n",
       "    <tr>\n",
       "      <th>6</th>\n",
       "      <td>Lawrence Manor, Lawrence Heights</td>\n",
       "      <td>11</td>\n",
       "    </tr>\n",
       "    <tr>\n",
       "      <th>7</th>\n",
       "      <td>Willowdale, Willowdale West</td>\n",
       "      <td>6</td>\n",
       "    </tr>\n",
       "    <tr>\n",
       "      <th>8</th>\n",
       "      <td>Glencairn</td>\n",
       "      <td>6</td>\n",
       "    </tr>\n",
       "    <tr>\n",
       "      <th>9</th>\n",
       "      <td>Northwood Park, York University</td>\n",
       "      <td>6</td>\n",
       "    </tr>\n",
       "    <tr>\n",
       "      <th>10</th>\n",
       "      <td>Hillcrest Village</td>\n",
       "      <td>5</td>\n",
       "    </tr>\n",
       "    <tr>\n",
       "      <th>11</th>\n",
       "      <td>North Park, Maple Leaf Park, Upwood Park</td>\n",
       "      <td>5</td>\n",
       "    </tr>\n",
       "    <tr>\n",
       "      <th>12</th>\n",
       "      <td>Bayview Village</td>\n",
       "      <td>4</td>\n",
       "    </tr>\n",
       "    <tr>\n",
       "      <th>13</th>\n",
       "      <td>Victoria Village</td>\n",
       "      <td>4</td>\n",
       "    </tr>\n",
       "    <tr>\n",
       "      <th>14</th>\n",
       "      <td>Parkwoods</td>\n",
       "      <td>3</td>\n",
       "    </tr>\n",
       "    <tr>\n",
       "      <th>15</th>\n",
       "      <td>York Mills West</td>\n",
       "      <td>2</td>\n",
       "    </tr>\n",
       "    <tr>\n",
       "      <th>16</th>\n",
       "      <td>Humberlea, Emery</td>\n",
       "      <td>2</td>\n",
       "    </tr>\n",
       "    <tr>\n",
       "      <th>17</th>\n",
       "      <td>Humber Summit</td>\n",
       "      <td>2</td>\n",
       "    </tr>\n",
       "    <tr>\n",
       "      <th>18</th>\n",
       "      <td>York Mills, Silver Hills</td>\n",
       "      <td>1</td>\n",
       "    </tr>\n",
       "  </tbody>\n",
       "</table>\n",
       "</div>"
      ],
      "text/plain": [
       "                                       Neighborhood  Number of Venues\n",
       "0                      Fairview, Henry Farm, Oriole                62\n",
       "1                       Willowdale, Willowdale East                33\n",
       "2                                         Don Mills                28\n",
       "3                 Bedford Park, Lawrence Manor East                24\n",
       "4   Bathurst Manor, Wilson Heights, Downsview North                20\n",
       "5                                         Downsview                17\n",
       "6                  Lawrence Manor, Lawrence Heights                11\n",
       "7                       Willowdale, Willowdale West                 6\n",
       "8                                         Glencairn                 6\n",
       "9                   Northwood Park, York University                 6\n",
       "10                                Hillcrest Village                 5\n",
       "11         North Park, Maple Leaf Park, Upwood Park                 5\n",
       "12                                  Bayview Village                 4\n",
       "13                                 Victoria Village                 4\n",
       "14                                        Parkwoods                 3\n",
       "15                                  York Mills West                 2\n",
       "16                                 Humberlea, Emery                 2\n",
       "17                                    Humber Summit                 2\n",
       "18                         York Mills, Silver Hills                 1"
      ]
     },
     "execution_count": 18,
     "metadata": {},
     "output_type": "execute_result"
    }
   ],
   "source": [
    "Num_venues = NorthYork_venues.groupby('Neighborhood').count()\n",
    "Num_venues['Number of Venues'] = Num_venues.Venue\n",
    "Num_venues = Num_venues.drop(['Neighborhood Latitude', 'Neighborhood Longitude', 'Venue Latitude', 'Venue', 'Venue Longitude', 'Venue Category'], axis=1).reset_index()\n",
    "Num_venues.sort_values(by='Number of Venues', ascending=False, inplace=True)\n",
    "Num_venues.reset_index(inplace=True)\n",
    "Num_venues.drop('index', axis=1, inplace=True)\n",
    "\n",
    "Num_venues"
   ]
  },
  {
   "cell_type": "markdown",
   "metadata": {},
   "source": [
    "And finally, let's see how many unique categories there are in the North York Borough"
   ]
  },
  {
   "cell_type": "code",
   "execution_count": 19,
   "metadata": {},
   "outputs": [
    {
     "name": "stdout",
     "output_type": "stream",
     "text": [
      "There are 104 uniques categories.\n"
     ]
    }
   ],
   "source": [
    "print('There are {} uniques categories.'.format(len(NorthYork_venues['Venue Category'].unique())))"
   ]
  },
  {
   "cell_type": "markdown",
   "metadata": {},
   "source": [
    "And this is all :) <br>\n",
    "If we wanted to go further we could also create a chart using `Matplotlib`."
   ]
  }
 ],
 "metadata": {
  "kernelspec": {
   "display_name": "Python 3",
   "language": "python",
   "name": "python3"
  },
  "language_info": {
   "codemirror_mode": {
    "name": "ipython",
    "version": 3
   },
   "file_extension": ".py",
   "mimetype": "text/x-python",
   "name": "python",
   "nbconvert_exporter": "python",
   "pygments_lexer": "ipython3",
   "version": "3.7.5"
  }
 },
 "nbformat": 4,
 "nbformat_minor": 4
}
